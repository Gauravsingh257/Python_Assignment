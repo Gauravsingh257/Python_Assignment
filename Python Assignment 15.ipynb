{
 "cells": [
  {
   "cell_type": "markdown",
   "id": "90081db1",
   "metadata": {},
   "source": [
    "# Python Assignment 15\n",
    "\n",
    "# 1.How many seconds are in an hour? Use the interactive interpreter as a calculator and multiply the number of seconds in a minute (60) by the number of minutes in an hour (also 60).\n",
    "\n",
    "#Ans:- \n",
    "seconds_in_a_minute = 60\n",
    "minutes_in_an_hour = 60\n",
    "\n",
    "seconds_in_an_hour = seconds_in_a_minute * minutes_in_an_hour\n",
    "\n",
    "print(seconds_in_an_hour)\n"
   ]
  },
  {
   "cell_type": "code",
   "execution_count": 7,
   "id": "b199d1f8",
   "metadata": {},
   "outputs": [
    {
     "name": "stdout",
     "output_type": "stream",
     "text": [
      "3600\n"
     ]
    }
   ],
   "source": [
    "#2. Assign the result from the previous task (seconds in an hour) to a variable called seconds_per_hour.\n",
    "\n",
    "#Ans:-\n",
    "\n",
    "seconds_per_hour = 3600\n",
    "print(seconds_per_hour)\n"
   ]
  },
  {
   "cell_type": "code",
   "execution_count": 8,
   "id": "ea0dfea8",
   "metadata": {},
   "outputs": [
    {
     "name": "stdout",
     "output_type": "stream",
     "text": [
      "86400\n"
     ]
    }
   ],
   "source": [
    "#3. How many seconds do you think there are in a day? Make use of the variables seconds per hour and minutes per hour.\n",
    "\n",
    "seconds_per_hour = 3600\n",
    "minutes_per_hour = 60\n",
    "\n",
    "seconds_per_day = seconds_per_hour * 24  # There are 24 hours in a day\n",
    "\n",
    "print(seconds_per_day)\n"
   ]
  },
  {
   "cell_type": "code",
   "execution_count": 9,
   "id": "d915d20c",
   "metadata": {},
   "outputs": [
    {
     "name": "stdout",
     "output_type": "stream",
     "text": [
      "86400\n"
     ]
    }
   ],
   "source": [
    "#4. Calculate seconds per day again, but this time save the result in a variable called seconds_per_day\n",
    "\n",
    "seconds_per_hour = 3600\n",
    "minutes_per_hour = 60\n",
    "\n",
    "seconds_per_day = seconds_per_hour * 24  # There are 24 hours in a day\n",
    "\n",
    "print(seconds_per_day)\n"
   ]
  },
  {
   "cell_type": "code",
   "execution_count": 10,
   "id": "0851a052",
   "metadata": {},
   "outputs": [
    {
     "name": "stdout",
     "output_type": "stream",
     "text": [
      "24.0\n"
     ]
    }
   ],
   "source": [
    "#5. Divide seconds_per_day by seconds_per_hour. Use floating-point (/) division.\n",
    "\n",
    "seconds_per_day = 86400  # Assuming you have previously calculated it as 86400\n",
    "\n",
    "result = seconds_per_day / seconds_per_hour\n",
    "\n",
    "print(result)\n"
   ]
  },
  {
   "cell_type": "code",
   "execution_count": 11,
   "id": "14ffd7c1",
   "metadata": {},
   "outputs": [
    {
     "name": "stdout",
     "output_type": "stream",
     "text": [
      "24\n"
     ]
    }
   ],
   "source": [
    "# 6. Divide seconds_per_day by seconds_per_hour, using integer (//) division. Did this number agree with the floating-point value from the previous question, aside from the final .0?\n",
    "\n",
    "seconds_per_day = 86400  # Assuming you have previously calculated it as 86400\n",
    "\n",
    "result = seconds_per_day // seconds_per_hour\n",
    "\n",
    "print(result)\n"
   ]
  },
  {
   "cell_type": "code",
   "execution_count": 12,
   "id": "04c82138",
   "metadata": {},
   "outputs": [
    {
     "name": "stdout",
     "output_type": "stream",
     "text": [
      "2\n",
      "3\n",
      "5\n",
      "7\n",
      "11\n"
     ]
    }
   ],
   "source": [
    "# 7. Write a generator, genPrimes, that returns the sequence of prime numbers on successive calls to its next() method: 2, 3, 5, 7, 11, ...\n",
    "\n",
    "def genPrimes():\n",
    "    primes = []  # List to store prime numbers\n",
    "    num = 2  # Start with the first prime number, 2\n",
    "    \n",
    "    while True:\n",
    "        is_prime = True\n",
    "        \n",
    "        # Check if num is divisible by any of the previously found primes\n",
    "        for prime in primes:\n",
    "            if num % prime == 0:\n",
    "                is_prime = False\n",
    "                break\n",
    "        \n",
    "        if is_prime:\n",
    "            yield num  # Yield the prime number\n",
    "            primes.append(num)  # Add it to the list of primes\n",
    "        \n",
    "        num += 1  # Move on to the next number\n",
    "\n",
    "# Example usage of the generator to print the first few prime numbers\n",
    "prime_generator = genPrimes()\n",
    "for _ in range(5):  # Print the first 5 prime numbers\n",
    "    print(next(prime_generator))\n"
   ]
  },
  {
   "cell_type": "code",
   "execution_count": 13,
   "id": "60387297",
   "metadata": {},
   "outputs": [
    {
     "name": "stdout",
     "output_type": "stream",
     "text": [
      "Full path of the file: C:\\Users\\g6666\\your_script.py\n"
     ]
    }
   ],
   "source": [
    "import os\n",
    "\n",
    "# Get the current working directory\n",
    "current_directory = os.getcwd()\n",
    "\n",
    "# Specify the filename (e.g., \"your_script.py\" or \"your_notebook.ipynb\")\n",
    "file_name = \"your_script.py\"  # Replace with the actual filename\n",
    "\n",
    "# Create the full path by joining the directory and filename\n",
    "full_path = os.path.join(current_directory, file_name)\n",
    "\n",
    "print(\"Full path of the file:\", full_path)\n"
   ]
  },
  {
   "cell_type": "code",
   "execution_count": null,
   "id": "c134be51",
   "metadata": {},
   "outputs": [],
   "source": []
  }
 ],
 "metadata": {
  "kernelspec": {
   "display_name": "Python 3 (ipykernel)",
   "language": "python",
   "name": "python3"
  },
  "language_info": {
   "codemirror_mode": {
    "name": "ipython",
    "version": 3
   },
   "file_extension": ".py",
   "mimetype": "text/x-python",
   "name": "python",
   "nbconvert_exporter": "python",
   "pygments_lexer": "ipython3",
   "version": "3.10.9"
  }
 },
 "nbformat": 4,
 "nbformat_minor": 5
}
