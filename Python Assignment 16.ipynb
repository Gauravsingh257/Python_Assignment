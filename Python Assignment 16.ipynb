{
 "cells": [
  {
   "cell_type": "code",
   "execution_count": null,
   "id": "4198e4e7",
   "metadata": {},
   "outputs": [],
   "source": [
    "# Python Assignment 16\n",
    "\n",
    "# 1. Create a list called years_list, starting with the year of your birth, and each year thereafter untilthe year of your fifth birthday. For example, if you were born in 1980. the list would be years_list = [1980, 1981, 1982, 1983, 1984, 1985].\n",
    "\n",
    "# Replace the year of birth and age with your actual values\n",
    "year_of_birth = 1990\n",
    "age_at_fifth_birthday = 5\n",
    "\n",
    "# Calculate the last year (the year of your fifth birthday)\n",
    "last_year = year_of_birth + age_at_fifth_birthday\n",
    "\n",
    "# Create the years_list using a list comprehension\n",
    "years_list = [year for year in range(year_of_birth, last_year + 1)]\n",
    "\n",
    "print(years_list)\n"
   ]
  },
  {
   "cell_type": "code",
   "execution_count": 2,
   "id": "b341cd77",
   "metadata": {},
   "outputs": [
    {
     "name": "stdout",
     "output_type": "stream",
     "text": [
      "The year of your third birthday was: 1992\n"
     ]
    }
   ],
   "source": [
    "#2. In which year in years_list was your third birthday? Remember, you were 0 years of age for your first year.\n",
    "\n",
    "# Replace the year_of_birth and age_at_fifth_birthday with your actual values\n",
    "year_of_birth = 1990\n",
    "age_at_fifth_birthday = 5\n",
    "\n",
    "# Calculate the last year (the year of your fifth birthday)\n",
    "last_year = year_of_birth + age_at_fifth_birthday\n",
    "\n",
    "# Create the years_list using a list comprehension\n",
    "years_list = [year for year in range(year_of_birth, last_year + 1)]\n",
    "\n",
    "# Calculate the year of your third birthday (when you were 2 years old)\n",
    "year_of_third_birthday = years_list[2]\n",
    "\n",
    "print(\"The year of your third birthday was:\", year_of_third_birthday)\n"
   ]
  },
  {
   "cell_type": "code",
   "execution_count": 3,
   "id": "6705264e",
   "metadata": {},
   "outputs": [
    {
     "name": "stdout",
     "output_type": "stream",
     "text": [
      "The year when you were the oldest was: 1995\n"
     ]
    }
   ],
   "source": [
    "#3.In the years list, which year were you the oldest?\n",
    "\n",
    "# Replace the year_of_birth and age_at_fifth_birthday with your actual values\n",
    "year_of_birth = 1990\n",
    "age_at_fifth_birthday = 5\n",
    "\n",
    "# Calculate the last year (the year of your fifth birthday)\n",
    "last_year = year_of_birth + age_at_fifth_birthday\n",
    "\n",
    "# Create the years_list using a list comprehension\n",
    "years_list = [year for year in range(year_of_birth, last_year + 1)]\n",
    "\n",
    "# Calculate the year when you were the oldest (the last year in the list)\n",
    "year_of_oldest = years_list[-1]\n",
    "\n",
    "print(\"The year when you were the oldest was:\", year_of_oldest)\n"
   ]
  },
  {
   "cell_type": "code",
   "execution_count": 5,
   "id": "ced7dbaf",
   "metadata": {},
   "outputs": [
    {
     "name": "stdout",
     "output_type": "stream",
     "text": [
      "['mozzarella', 'cinderella', 'salmonella']\n"
     ]
    }
   ],
   "source": [
    "# 4. Make a list called things with these three strings as elements: &quot;mozzarella&quot;, &quot;cinderella&quot;,&quot;salmonella&quot;.\n",
    "\n",
    "things = [\"mozzarella\", \"cinderella\", \"salmonella\"]\n",
    "\n",
    "# Print the list\n",
    "print(things)\n",
    "\n"
   ]
  },
  {
   "cell_type": "code",
   "execution_count": 6,
   "id": "3c3c0880",
   "metadata": {},
   "outputs": [
    {
     "name": "stdout",
     "output_type": "stream",
     "text": [
      "['mozzarella', 'Cinderella', 'salmonella']\n"
     ]
    }
   ],
   "source": [
    "# 5. Capitalize the element in things that refers to a person and then print the list. Did it change the element in the list?\n",
    "\n",
    "things = [\"mozzarella\", \"cinderella\", \"salmonella\"]\n",
    "\n",
    "# Create a new list with the capitalized element\n",
    "capitalized_things = [thing.capitalize() if thing == \"cinderella\" else thing for thing in things]\n",
    "\n",
    "# Print the new list\n",
    "print(capitalized_things)\n"
   ]
  },
  {
   "cell_type": "code",
   "execution_count": null,
   "id": "d840becd",
   "metadata": {},
   "outputs": [],
   "source": [
    "# 6. Make a surprise list with the elements &quot;Groucho,&quot; &quot;Chico,&quot; and &quot;Harpo.&quot;\n",
    "\n",
    "surprise = [\"Groucho\", \"Chico\", \"Harpo\"]\n"
   ]
  },
  {
   "cell_type": "code",
   "execution_count": 7,
   "id": "ce805a8d",
   "metadata": {},
   "outputs": [
    {
     "name": "stdout",
     "output_type": "stream",
     "text": [
      "Oprah\n"
     ]
    }
   ],
   "source": [
    "# 7. Lowercase the last element of the surprise list, reverse it, and then capitalize it.\n",
    "\n",
    "surprise = [\"Groucho\", \"Chico\", \"Harpo\"]\n",
    "\n",
    "# Lowercase the last element\n",
    "last_element = surprise[-1].lower()\n",
    "\n",
    "# Reverse the last element\n",
    "reversed_element = last_element[::-1]\n",
    "\n",
    "# Capitalize the reversed element\n",
    "capitalized_reversed_element = reversed_element.capitalize()\n",
    "\n",
    "print(capitalized_reversed_element)\n"
   ]
  },
  {
   "cell_type": "code",
   "execution_count": 8,
   "id": "e4f71e0f",
   "metadata": {},
   "outputs": [
    {
     "name": "stdout",
     "output_type": "stream",
     "text": [
      "{'dog': 'chien', 'cat': 'chat', 'walrus': 'morse'}\n"
     ]
    }
   ],
   "source": [
    "# 8. Make an English-to-French dictionary called e2f and print it. Here are your starter words: dog is chien, cat is chat, and walrus is morse.\n",
    "\n",
    "e2f = {\n",
    "    \"dog\": \"chien\",\n",
    "    \"cat\": \"chat\",\n",
    "    \"walrus\": \"morse\"\n",
    "}\n",
    "\n",
    "print(e2f)\n"
   ]
  },
  {
   "cell_type": "code",
   "execution_count": 9,
   "id": "73fbf8ab",
   "metadata": {},
   "outputs": [
    {
     "name": "stdout",
     "output_type": "stream",
     "text": [
      "The French word for 'walrus' is: morse\n"
     ]
    }
   ],
   "source": [
    "# 9. Write the French word for walrus in your three-word dictionary e2f.\n",
    "\n",
    "e2f = {\n",
    "    \"dog\": \"chien\",\n",
    "    \"cat\": \"chat\",\n",
    "    \"walrus\": \"morse\"\n",
    "}\n",
    "\n",
    "french_word_for_walrus = e2f[\"walrus\"]\n",
    "\n",
    "print(\"The French word for 'walrus' is:\", french_word_for_walrus)\n"
   ]
  },
  {
   "cell_type": "code",
   "execution_count": 10,
   "id": "f5da1550",
   "metadata": {},
   "outputs": [
    {
     "name": "stdout",
     "output_type": "stream",
     "text": [
      "{'chien': 'dog', 'chat': 'cat', 'morse': 'walrus'}\n"
     ]
    }
   ],
   "source": [
    "# 10. Make a French-to-English dictionary called f2e from e2f. Use the items method.\n",
    "\n",
    "e2f = {\n",
    "    \"dog\": \"chien\",\n",
    "    \"cat\": \"chat\",\n",
    "    \"walrus\": \"morse\"\n",
    "}\n",
    "\n",
    "# Create a French-to-English dictionary by reversing key-value pairs using items()\n",
    "f2e = {value: key for key, value in e2f.items()}\n",
    "\n",
    "print(f2e)\n"
   ]
  },
  {
   "cell_type": "code",
   "execution_count": 11,
   "id": "e64535ca",
   "metadata": {},
   "outputs": [
    {
     "name": "stdout",
     "output_type": "stream",
     "text": [
      "The English word for 'chien' is: dog\n"
     ]
    }
   ],
   "source": [
    "#11. Print the English version of the French word chien using f2e.\n",
    "\n",
    "f2e = {\n",
    "    'chien': 'dog',\n",
    "    'chat': 'cat',\n",
    "    'morse': 'walrus'\n",
    "}\n",
    "\n",
    "english_word_for_chien = f2e['chien']\n",
    "\n",
    "print(\"The English word for 'chien' is:\", english_word_for_chien)\n"
   ]
  },
  {
   "cell_type": "code",
   "execution_count": 12,
   "id": "b891fed3",
   "metadata": {},
   "outputs": [
    {
     "name": "stdout",
     "output_type": "stream",
     "text": [
      "{'dog', 'cat', 'walrus'}\n"
     ]
    }
   ],
   "source": [
    "# 12. Make and print a set of English words from the keys in e2f.\n",
    "\n",
    "e2f = {\n",
    "    \"dog\": \"chien\",\n",
    "    \"cat\": \"chat\",\n",
    "    \"walrus\": \"morse\"\n",
    "}\n",
    "\n",
    "# Create a set of English words from the keys in e2f\n",
    "english_words_set = set(e2f.keys())\n",
    "\n",
    "print(english_words_set)\n"
   ]
  },
  {
   "cell_type": "code",
   "execution_count": 14,
   "id": "2395b2ec",
   "metadata": {},
   "outputs": [
    {
     "name": "stdout",
     "output_type": "stream",
     "text": [
      "{'animals': {'cats': ['Henri', 'Grumpy', 'Lucy'], 'octopi': {}, 'emus': {}}, 'plants': {}, 'other': {}}\n"
     ]
    }
   ],
   "source": [
    "# 13. Make a multilevel dictionary called life. Use these strings for the topmost keys: &#39;animals&#39;, &#39;plants&#39;, &#39;other&#39;. Make the &#39;animals&#39; key refer to another dictionary with the keys &#39;cats&#39;, &#39;octopi&#39;, and &#39;emus&#39;. Make the &#39;cats&#39; key refer to a list of strings with the values &#39;Henri&#39;, &#39;Grumpy&#39;, and &#39;Lucy&#39;. Make all the other keys refer to empty dictionaries.\n",
    "\n",
    "life = {\n",
    "    'animals': {\n",
    "        'cats': ['Henri', 'Grumpy', 'Lucy'],\n",
    "        'octopi': {},\n",
    "        'emus': {}\n",
    "    },\n",
    "    'plants': {},\n",
    "    'other': {}\n",
    "}\n",
    "\n",
    "print(life)\n",
    "\n"
   ]
  },
  {
   "cell_type": "code",
   "execution_count": 15,
   "id": "77eb93af",
   "metadata": {},
   "outputs": [
    {
     "name": "stdout",
     "output_type": "stream",
     "text": [
      "dict_keys(['animals', 'plants', 'other'])\n"
     ]
    }
   ],
   "source": [
    "# 14. Print the top-level keys of life.\n",
    "\n",
    "life = {\n",
    "    'animals': {\n",
    "        'cats': ['Henri', 'Grumpy', 'Lucy'],\n",
    "        'octopi': {},\n",
    "        'emus': {}\n",
    "    },\n",
    "    'plants': {},\n",
    "    'other': {}\n",
    "}\n",
    "\n",
    "# Get and print the top-level keys of the life dictionary\n",
    "top_level_keys = life.keys()\n",
    "\n",
    "print(top_level_keys)\n"
   ]
  },
  {
   "cell_type": "code",
   "execution_count": 16,
   "id": "6ae89c01",
   "metadata": {},
   "outputs": [
    {
     "name": "stdout",
     "output_type": "stream",
     "text": [
      "dict_keys(['cats', 'octopi', 'emus'])\n"
     ]
    }
   ],
   "source": [
    "# 15. Print the keys for life[&#39;animals&#39;].\n",
    "\n",
    "life = {\n",
    "    'animals': {\n",
    "        'cats': ['Henri', 'Grumpy', 'Lucy'],\n",
    "        'octopi': {},\n",
    "        'emus': {}\n",
    "    },\n",
    "    'plants': {},\n",
    "    'other': {}\n",
    "}\n",
    "\n",
    "# Get and print the keys for life['animals']\n",
    "animal_keys = life['animals'].keys()\n",
    "\n",
    "print(animal_keys)\n"
   ]
  },
  {
   "cell_type": "code",
   "execution_count": 17,
   "id": "97629b6b",
   "metadata": {},
   "outputs": [
    {
     "name": "stdout",
     "output_type": "stream",
     "text": [
      "['Henri', 'Grumpy', 'Lucy']\n"
     ]
    }
   ],
   "source": [
    "# 16. Print the values for life[&#39;animals&#39;][&#39;cats&#39;]\n",
    "life = {\n",
    "    'animals': {\n",
    "        'cats': ['Henri', 'Grumpy', 'Lucy'],\n",
    "        'octopi': {},\n",
    "        'emus': {}\n",
    "    },\n",
    "    'plants': {},\n",
    "    'other': {}\n",
    "}\n",
    "\n",
    "# Get and print the values for life['animals']['cats']\n",
    "cat_values = life['animals']['cats']\n",
    "\n",
    "print(cat_values)\n",
    "\n"
   ]
  },
  {
   "cell_type": "code",
   "execution_count": null,
   "id": "afa47bae",
   "metadata": {},
   "outputs": [],
   "source": []
  }
 ],
 "metadata": {
  "kernelspec": {
   "display_name": "Python 3 (ipykernel)",
   "language": "python",
   "name": "python3"
  },
  "language_info": {
   "codemirror_mode": {
    "name": "ipython",
    "version": 3
   },
   "file_extension": ".py",
   "mimetype": "text/x-python",
   "name": "python",
   "nbconvert_exporter": "python",
   "pygments_lexer": "ipython3",
   "version": "3.10.9"
  }
 },
 "nbformat": 4,
 "nbformat_minor": 5
}
