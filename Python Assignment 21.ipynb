{
 "cells": [
  {
   "cell_type": "code",
   "execution_count": 1,
   "id": "a1960271",
   "metadata": {},
   "outputs": [],
   "source": [
    "# 1. Add the current date to the text file today.txt as a string.\n",
    "\n",
    "from datetime import date\n",
    "\n",
    "# Get the current date as a string\n",
    "current_date = date.today().strftime('%Y-%m-%d')\n",
    "\n",
    "# Specify the file name\n",
    "file_name = 'today.txt'\n",
    "\n",
    "# Write the current date to the file\n",
    "with open(file_name, 'w') as file:\n",
    "    file.write(current_date)\n"
   ]
  },
  {
   "cell_type": "code",
   "execution_count": 3,
   "id": "a2a13f0e",
   "metadata": {},
   "outputs": [
    {
     "name": "stdout",
     "output_type": "stream",
     "text": [
      "2023-09-24\n"
     ]
    }
   ],
   "source": [
    "# 2. Read the text file today.txt into the string today_string\n",
    "\n",
    "# Specify the file name\n",
    "file_name = 'today.txt'\n",
    "\n",
    "# Read the contents of the file into today_string\n",
    "with open(file_name, 'r') as file:\n",
    "    today_string = file.read()\n",
    "\n",
    "# Print the contents of today_string\n",
    "print(today_string)\n"
   ]
  },
  {
   "cell_type": "code",
   "execution_count": 4,
   "id": "6b4ee5fa",
   "metadata": {},
   "outputs": [
    {
     "name": "stdout",
     "output_type": "stream",
     "text": [
      "2023-09-24\n"
     ]
    }
   ],
   "source": [
    "# 3. Parse the date from today_string.\n",
    "\n",
    "from datetime import datetime\n",
    "\n",
    "# Assuming today_string contains a date in the \"YYYY-MM-DD\" format\n",
    "today_string = \"2023-09-24\"  # Replace this with your actual today_string\n",
    "\n",
    "# Parse the date from today_string\n",
    "parsed_date = datetime.strptime(today_string, '%Y-%m-%d').date()\n",
    "\n",
    "# Now, parsed_date is a datetime.date object representing the date\n",
    "print(parsed_date)\n"
   ]
  },
  {
   "cell_type": "code",
   "execution_count": 6,
   "id": "aeb7609f",
   "metadata": {},
   "outputs": [
    {
     "name": "stdout",
     "output_type": "stream",
     "text": [
      "-1.14-windows.xml\n",
      ".1.0.0.0\n",
      ".cache\n",
      ".eclipse\n",
      ".Icecream Screen Recorder\n",
      ".ipynb_checkpoints\n",
      ".ipython\n",
      ".jupyter\n",
      ".matplotlib\n",
      ".ms-ad\n",
      ".p2\n",
      ".QtWebEngineProcess\n",
      ".spyder-py3\n",
      ".vscode\n",
      "2_Python - Modules and Packages.ipynb\n",
      "3D Objects\n",
      "3_Python - Lists Operations.ipynb\n",
      "4_Python - Sets.ipynb\n",
      "4_Python - Variables, Expressions _ Statements.ipynb\n",
      "5_Python - Tuples.ipynb\n",
      "6_Python - Dictionaries.ipynb\n",
      "7_Python - Conditional Executions.ipynb\n",
      "8_Python - Iterative  Executions.ipynb\n",
      "anaconda3\n",
      "ansel\n",
      "AppData\n",
      "Application Data\n",
      "Assignment_15.docx\n",
      "books.csv\n",
      "books.db\n",
      "Contacts\n",
      "Cookies\n",
      "Desktop\n",
      "Documents\n",
      "eclipse\n",
      "Favorites\n",
      "keys.mwb\n",
      "Links\n",
      "Local Settings\n",
      "Microsoft\n",
      "Music\n",
      "My Documents\n",
      "NetHood\n",
      "NTUSER.DAT\n",
      "ntuser.dat.LOG1\n",
      "ntuser.dat.LOG2\n",
      "NTUSER.DAT{3f200386-9e83-11ed-85d9-cd37fadd3569}.TM.blf\n",
      "NTUSER.DAT{3f200386-9e83-11ed-85d9-cd37fadd3569}.TMContainer00000000000000000001.regtrans-ms\n",
      "NTUSER.DAT{3f200386-9e83-11ed-85d9-cd37fadd3569}.TMContainer00000000000000000002.regtrans-ms\n",
      "ntuser.ini\n",
      "OneDrive\n",
      "output_sales.sql\n",
      "Pictures\n",
      "PrintHood\n",
      "Programming Assignment_1 (2).ipynb\n",
      "Python Assignment 15.ipynb\n",
      "Python Assignment 16.ipynb\n",
      "Python Assignment 17.ipynb\n",
      "Python Assignment 18.ipynb\n",
      "Python Assignment 19.ipynb\n",
      "Python Assignment 20.ipynb\n",
      "Recent\n",
      "Saved Games\n",
      "Searches\n",
      "SendTo\n",
      "Start Menu\n",
      "Templates\n",
      "test.txt\n",
      "today.txt\n",
      "Untitled.ipynb\n",
      "untitled.txt\n",
      "Untitled1.ipynb\n",
      "Untitled2.ipynb\n",
      "Untitled3.ipynb\n",
      "Videos\n"
     ]
    }
   ],
   "source": [
    "# 4. List the files in your current directory\n",
    "\n",
    "\n",
    "import os\n",
    "\n",
    "# Get the current directory path\n",
    "current_directory = os.getcwd()\n",
    "\n",
    "# List files in the current directory\n",
    "file_list = os.listdir(current_directory)\n",
    "\n",
    "# Print the list of files\n",
    "for file in file_list:\n",
    "    print(file)\n"
   ]
  },
  {
   "cell_type": "code",
   "execution_count": 7,
   "id": "83a57384",
   "metadata": {},
   "outputs": [
    {
     "name": "stdout",
     "output_type": "stream",
     "text": [
      "All Users\n",
      "Default\n",
      "Default User\n",
      "desktop.ini\n",
      "g6666\n",
      "Public\n"
     ]
    }
   ],
   "source": [
    "# 5. Create a list of all of the files in your parent directory (minimum five files should be available).\n",
    "\n",
    "import os\n",
    "\n",
    "# Get the current directory path\n",
    "current_directory = os.getcwd()\n",
    "\n",
    "# Get the parent directory path\n",
    "parent_directory = os.path.dirname(current_directory)\n",
    "\n",
    "# List files in the parent directory\n",
    "file_list = os.listdir(parent_directory)\n",
    "\n",
    "# Print the list of files\n",
    "for file in file_list:\n",
    "    print(file)\n"
   ]
  },
  {
   "cell_type": "code",
   "execution_count": 8,
   "id": "6535d5bf",
   "metadata": {},
   "outputs": [
    {
     "name": "stdout",
     "output_type": "stream",
     "text": [
      "All processes have finished.\n"
     ]
    }
   ],
   "source": [
    "# 6. Use multiprocessing to create three separate processes. Make each one wait a random number of seconds between one and five, print the current time, and then exit.\n",
    "\n",
    "import multiprocessing\n",
    "import time\n",
    "import random\n",
    "from datetime import datetime\n",
    "\n",
    "# Function to print the current time and exit\n",
    "def print_current_time():\n",
    "    wait_time = random.randint(1, 5)\n",
    "    time.sleep(wait_time)\n",
    "    current_time = datetime.now().strftime(\"%Y-%m-%d %H:%M:%S\")\n",
    "    print(f\"Process {multiprocessing.current_process().name}: Current time is {current_time}\")\n",
    "    \n",
    "# Create three separate processes\n",
    "if __name__ == '__main__':\n",
    "    processes = []\n",
    "    for i in range(3):\n",
    "        process = multiprocessing.Process(target=print_current_time, name=f\"Process-{i+1}\")\n",
    "        processes.append(process)\n",
    "        process.start()\n",
    "    \n",
    "    # Wait for all processes to finish\n",
    "    for process in processes:\n",
    "        process.join()\n",
    "\n",
    "    print(\"All processes have finished.\")\n"
   ]
  },
  {
   "cell_type": "code",
   "execution_count": 9,
   "id": "ed580fd8",
   "metadata": {},
   "outputs": [
    {
     "name": "stdout",
     "output_type": "stream",
     "text": [
      "Date of Birth: 1990-10-15\n"
     ]
    }
   ],
   "source": [
    "# 7. Create a date object of your day of birth.\n",
    "\n",
    "from datetime import date\n",
    "\n",
    "# Replace with your actual date of birth (YYYY, MM, DD)\n",
    "birth_year = 1990\n",
    "birth_month = 10\n",
    "birth_day = 15\n",
    "\n",
    "# Create a date object for your date of birth\n",
    "date_of_birth = date(birth_year, birth_month, birth_day)\n",
    "\n",
    "# Print the date of birth\n",
    "print(\"Date of Birth:\", date_of_birth)\n"
   ]
  },
  {
   "cell_type": "code",
   "execution_count": 10,
   "id": "dda8c493",
   "metadata": {},
   "outputs": [
    {
     "name": "stdout",
     "output_type": "stream",
     "text": [
      "Your date of birth falls on a Monday\n"
     ]
    }
   ],
   "source": [
    "# 8. What day of the week was your day of birth?\n",
    "\n",
    "from datetime import date\n",
    "\n",
    "# Replace with your actual date of birth (YYYY, MM, DD)\n",
    "birth_year = 1990\n",
    "birth_month = 10\n",
    "birth_day = 15\n",
    "\n",
    "# Create a date object for your date of birth\n",
    "date_of_birth = date(birth_year, birth_month, birth_day)\n",
    "\n",
    "# Get the day of the week as an integer (0 = Monday, 1 = Tuesday, ..., 6 = Sunday)\n",
    "day_of_week = date_of_birth.weekday()\n",
    "\n",
    "# Define a list of day names\n",
    "day_names = [\"Monday\", \"Tuesday\", \"Wednesday\", \"Thursday\", \"Friday\", \"Saturday\", \"Sunday\"]\n",
    "\n",
    "# Print the day of the week for your date of birth\n",
    "print(\"Your date of birth falls on a\", day_names[day_of_week])\n"
   ]
  },
  {
   "cell_type": "code",
   "execution_count": 11,
   "id": "ae21ee2a",
   "metadata": {},
   "outputs": [
    {
     "name": "stdout",
     "output_type": "stream",
     "text": [
      "You will be (or were) 10,000 days old on: 2018-03-02\n"
     ]
    }
   ],
   "source": [
    "# 9. When will you be (or when were you) 10,000 days old?\n",
    "\n",
    "from datetime import date, timedelta\n",
    "\n",
    "# Replace with your actual date of birth (YYYY, MM, DD)\n",
    "birth_year = 1990\n",
    "birth_month = 10\n",
    "birth_day = 15\n",
    "\n",
    "# Create a date object for your date of birth\n",
    "date_of_birth = date(birth_year, birth_month, birth_day)\n",
    "\n",
    "# Calculate the date when you will be (or were) 10,000 days old\n",
    "ten_thousand_days_date = date_of_birth + timedelta(days=10000)\n",
    "\n",
    "# Print the date\n",
    "print(\"You will be (or were) 10,000 days old on:\", ten_thousand_days_date)\n"
   ]
  },
  {
   "cell_type": "code",
   "execution_count": null,
   "id": "9a31656b",
   "metadata": {},
   "outputs": [],
   "source": []
  }
 ],
 "metadata": {
  "kernelspec": {
   "display_name": "Python 3 (ipykernel)",
   "language": "python",
   "name": "python3"
  },
  "language_info": {
   "codemirror_mode": {
    "name": "ipython",
    "version": 3
   },
   "file_extension": ".py",
   "mimetype": "text/x-python",
   "name": "python",
   "nbconvert_exporter": "python",
   "pygments_lexer": "ipython3",
   "version": "3.10.9"
  }
 },
 "nbformat": 4,
 "nbformat_minor": 5
}
