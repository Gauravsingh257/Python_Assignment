{
 "cells": [
  {
   "cell_type": "code",
   "execution_count": 1,
   "id": "9bd810cf",
   "metadata": {},
   "outputs": [],
   "source": [
    "# 1. Set the variable test1 to the string &#39;This is a test of the emergency text system,&#39; and save test1 to a file named test.txt.\n",
    "\n",
    "# Define the string\n",
    "test1 = 'This is a test of the emergency text system.'\n",
    "\n",
    "# Specify the file name\n",
    "file_name = 'test.txt'\n",
    "\n",
    "# Write the string to the file\n",
    "with open(file_name, 'w') as file:\n",
    "    file.write(test1)\n"
   ]
  },
  {
   "cell_type": "code",
   "execution_count": 2,
   "id": "ef8d4007",
   "metadata": {},
   "outputs": [
    {
     "name": "stdout",
     "output_type": "stream",
     "text": [
      "This is a test of the emergency text system.\n"
     ]
    }
   ],
   "source": [
    "# 2. Read the contents of the file test.txt into the variable test2. Is there a difference between test 1 and test 2?\n",
    "\n",
    "# Specify the file name\n",
    "file_name = 'test.txt'\n",
    "\n",
    "# Read the contents of the file into test2\n",
    "with open(file_name, 'r') as file:\n",
    "    test2 = file.read()\n",
    "\n",
    "# Print the contents of test2\n",
    "print(test2)\n"
   ]
  },
  {
   "cell_type": "code",
   "execution_count": 4,
   "id": "e1294107",
   "metadata": {},
   "outputs": [],
   "source": [
    "# 3. Create a CSV file called books.csv by using these lines:\n",
    "#title,author,year\n",
    "#The Weirdstone of Brisingamen,Alan Garner,1960\n",
    "#Perdido Street Station,China Miéville,2000\n",
    "#Thud!,Terry Pratchett,2005\n",
    "#The Spellman Files,Lisa Lutz,2007\n",
    "#Small Gods,Terry Pratchett,1992\n",
    "\n",
    "import csv\n",
    "\n",
    "# Define the data to write to the CSV file\n",
    "data = [\n",
    "    ['title', 'author', 'year'],\n",
    "    ['The Weirdstone of Brisingamen', 'Alan Garner', 1960],\n",
    "    ['Perdido Street Station', 'China Miéville', 2000],\n",
    "    ['Thud!', 'Terry Pratchett', 2005],\n",
    "    ['The Spellman Files', 'Lisa Lutz', 2007],\n",
    "    ['Small Gods', 'Terry Pratchett', 1992]\n",
    "]\n",
    "\n",
    "# Specify the file name\n",
    "file_name = 'books.csv'\n",
    "\n",
    "# Write the data to the CSV file\n",
    "with open(file_name, 'w', newline='') as csv_file:\n",
    "    writer = csv.writer(csv_file)\n",
    "    writer.writerows(data)\n"
   ]
  },
  {
   "cell_type": "code",
   "execution_count": 5,
   "id": "12c74ea7",
   "metadata": {},
   "outputs": [],
   "source": [
    "#4. Use the sqlite3 module to create a SQLite database called books.db, and a table called books with\n",
    "#these fields: title (text), author (text), and year (integer).\n",
    "\n",
    "import sqlite3\n",
    "\n",
    "# Connect to the SQLite database (or create it if it doesn't exist)\n",
    "conn = sqlite3.connect('books.db')\n",
    "\n",
    "# Create a cursor object to execute SQL commands\n",
    "cursor = conn.cursor()\n",
    "\n",
    "# Define the SQL command to create the 'books' table\n",
    "create_table_query = \"\"\"\n",
    "CREATE TABLE IF NOT EXISTS books (\n",
    "    title TEXT,\n",
    "    author TEXT,\n",
    "    year INTEGER\n",
    ");\n",
    "\"\"\"\n",
    "\n",
    "# Execute the SQL command to create the table\n",
    "cursor.execute(create_table_query)\n",
    "\n",
    "# Commit the changes and close the database connection\n",
    "conn.commit()\n",
    "conn.close()\n"
   ]
  },
  {
   "cell_type": "code",
   "execution_count": 6,
   "id": "ad231c0e",
   "metadata": {},
   "outputs": [],
   "source": [
    "# 5. Read books.csv and insert its data into the book table.\n",
    "\n",
    "import sqlite3\n",
    "import csv\n",
    "\n",
    "# Connect to the SQLite database\n",
    "conn = sqlite3.connect('books.db')\n",
    "cursor = conn.cursor()\n",
    "\n",
    "# Read data from books.csv and insert it into the books table\n",
    "with open('books.csv', 'r', newline='') as csv_file:\n",
    "    csv_reader = csv.reader(csv_file)\n",
    "    next(csv_reader)  # Skip the header row\n",
    "    for row in csv_reader:\n",
    "        title, author, year = row\n",
    "        cursor.execute(\"INSERT INTO books (title, author, year) VALUES (?, ?, ?)\", (title, author, int(year)))\n",
    "\n",
    "# Commit the changes and close the database connection\n",
    "conn.commit()\n",
    "conn.close()\n"
   ]
  },
  {
   "cell_type": "code",
   "execution_count": 7,
   "id": "fc643f47",
   "metadata": {},
   "outputs": [
    {
     "name": "stdout",
     "output_type": "stream",
     "text": [
      "Perdido Street Station\n",
      "Small Gods\n",
      "The Spellman Files\n",
      "The Weirdstone of Brisingamen\n",
      "Thud!\n"
     ]
    }
   ],
   "source": [
    "# 6. Select and print the title column from the book table in alphabetical order.\n",
    "\n",
    "import sqlite3\n",
    "\n",
    "# Connect to the SQLite database\n",
    "conn = sqlite3.connect('books.db')\n",
    "cursor = conn.cursor()\n",
    "\n",
    "# Execute an SQL query to select and fetch the titles in alphabetical order\n",
    "cursor.execute(\"SELECT title FROM books ORDER BY title ASC\")\n",
    "titles = cursor.fetchall()\n",
    "\n",
    "# Print the titles\n",
    "for title in titles:\n",
    "    print(title[0])\n",
    "\n",
    "# Close the database connection\n",
    "conn.close()\n"
   ]
  },
  {
   "cell_type": "code",
   "execution_count": 8,
   "id": "9b4ccf19",
   "metadata": {},
   "outputs": [
    {
     "name": "stdout",
     "output_type": "stream",
     "text": [
      "Title\tAuthor\tYear\n",
      "The Weirdstone of Brisingamen\tAlan Garner\t1960\n",
      "Small Gods\tTerry Pratchett\t1992\n",
      "Perdido Street Station\tChina Miéville\t2000\n",
      "Thud!\tTerry Pratchett\t2005\n",
      "The Spellman Files\tLisa Lutz\t2007\n"
     ]
    }
   ],
   "source": [
    "# 7. From the book table, select and print all columns in the order of publication.\n",
    "\n",
    "import sqlite3\n",
    "\n",
    "# Connect to the SQLite database\n",
    "conn = sqlite3.connect('books.db')\n",
    "cursor = conn.cursor()\n",
    "\n",
    "# Execute an SQL query to select all columns and order the results by year\n",
    "cursor.execute(\"SELECT * FROM books ORDER BY year ASC\")\n",
    "rows = cursor.fetchall()\n",
    "\n",
    "# Print the column headers\n",
    "print(\"Title\\tAuthor\\tYear\")\n",
    "\n",
    "# Print the data rows\n",
    "for row in rows:\n",
    "    title, author, year = row\n",
    "    print(f\"{title}\\t{author}\\t{year}\")\n",
    "\n",
    "# Close the database connection\n",
    "conn.close()\n"
   ]
  },
  {
   "cell_type": "code",
   "execution_count": 9,
   "id": "caaf9424",
   "metadata": {},
   "outputs": [],
   "source": [
    "# 8. Use the sqlalchemy module to connect to the sqlite3 database books.db that you just made in exercise 6.\n",
    "\n",
    "from sqlalchemy import create_engine\n",
    "\n",
    "# Define the database connection URL for SQLite\n",
    "db_url = 'sqlite:///books.db'\n",
    "\n",
    "# Create an SQLAlchemy database engine\n",
    "engine = create_engine(db_url)\n",
    "\n",
    "# Establish a connection to the database\n",
    "connection = engine.connect()\n",
    "\n",
    "# Now you can use the connection to execute SQL queries\n",
    "# For example, you can execute queries like this:\n",
    "# result = connection.execute(\"SELECT * FROM books\")\n",
    "\n",
    "# Remember to close the connection when you're done\n",
    "# connection.close()\n"
   ]
  },
  {
   "cell_type": "code",
   "execution_count": null,
   "id": "e3f83808",
   "metadata": {},
   "outputs": [],
   "source": []
  }
 ],
 "metadata": {
  "kernelspec": {
   "display_name": "Python 3 (ipykernel)",
   "language": "python",
   "name": "python3"
  },
  "language_info": {
   "codemirror_mode": {
    "name": "ipython",
    "version": 3
   },
   "file_extension": ".py",
   "mimetype": "text/x-python",
   "name": "python",
   "nbconvert_exporter": "python",
   "pygments_lexer": "ipython3",
   "version": "3.10.9"
  }
 },
 "nbformat": 4,
 "nbformat_minor": 5
}
